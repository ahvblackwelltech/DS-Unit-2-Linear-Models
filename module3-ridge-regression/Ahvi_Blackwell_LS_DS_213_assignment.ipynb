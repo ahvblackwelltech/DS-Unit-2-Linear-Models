{
  "nbformat": 4,
  "nbformat_minor": 0,
  "metadata": {
    "kernelspec": {
      "display_name": "Python 3",
      "language": "python",
      "name": "python3"
    },
    "language_info": {
      "codemirror_mode": {
        "name": "ipython",
        "version": 3
      },
      "file_extension": ".py",
      "mimetype": "text/x-python",
      "name": "python",
      "nbconvert_exporter": "python",
      "pygments_lexer": "ipython3",
      "version": "3.7.3"
    },
    "colab": {
      "name": "Ahvi_Blackwell_LS_DS_213_assignment.ipynb",
      "provenance": [],
      "collapsed_sections": [],
      "include_colab_link": true
    }
  },
  "cells": [
    {
      "cell_type": "markdown",
      "metadata": {
        "id": "view-in-github",
        "colab_type": "text"
      },
      "source": [
        "<a href=\"https://colab.research.google.com/github/ahvblackwelltech/DS-Unit-2-Linear-Models/blob/master/module3-ridge-regression/Ahvi_Blackwell_LS_DS_213_assignment.ipynb\" target=\"_parent\"><img src=\"https://colab.research.google.com/assets/colab-badge.svg\" alt=\"Open In Colab\"/></a>"
      ]
    },
    {
      "cell_type": "markdown",
      "metadata": {
        "id": "JdA2Kz77ZaFt",
        "colab_type": "text"
      },
      "source": [
        "Lambda School Data Science\n",
        "\n",
        "*Unit 2, Sprint 1, Module 3*\n",
        "\n",
        "---"
      ]
    },
    {
      "cell_type": "markdown",
      "metadata": {
        "colab_type": "text",
        "id": "7IXUfiQ2UKj6"
      },
      "source": [
        "# Ridge Regression\n",
        "\n",
        "## Assignment\n",
        "\n",
        "We're going back to our other **New York City** real estate dataset. Instead of predicting apartment rents, you'll predict property sales prices.\n",
        "\n",
        "But not just for condos in Tribeca...\n",
        "\n",
        "- [ ] Use a subset of the data where `BUILDING_CLASS_CATEGORY` == `'01 ONE FAMILY DWELLINGS'` and the sale price was more than 100 thousand and less than 2 million.\n",
        "- [ ] Do train/test split. Use data from January — March 2019 to train. Use data from April 2019 to test.\n",
        "- [ ] Do one-hot encoding of categorical features.\n",
        "- [ ] Do feature selection with `SelectKBest`.\n",
        "- [ ] Fit a ridge regression model with multiple features. Use the `normalize=True` parameter (or do [feature scaling](https://scikit-learn.org/stable/modules/preprocessing.html) beforehand — use the scaler's `fit_transform` method with the train set, and the scaler's `transform` method with the test set)\n",
        "- [ ] Get mean absolute error for the test set.\n",
        "- [ ] As always, commit your notebook to your fork of the GitHub repo.\n",
        "\n",
        "The [NYC Department of Finance](https://www1.nyc.gov/site/finance/taxes/property-rolling-sales-data.page) has a glossary of property sales terms and NYC Building Class Code Descriptions. The data comes from the [NYC OpenData](https://data.cityofnewyork.us/browse?q=NYC%20calendar%20sales) portal.\n",
        "\n",
        "\n",
        "## Stretch Goals\n",
        "\n",
        "Don't worry, you aren't expected to do all these stretch goals! These are just ideas to consider and choose from.\n",
        "\n",
        "- [ ] Add your own stretch goal(s) !\n",
        "- [ ] Instead of `Ridge`, try `LinearRegression`. Depending on how many features you select, your errors will probably blow up! 💥\n",
        "- [ ] Instead of `Ridge`, try [`RidgeCV`](https://scikit-learn.org/stable/modules/generated/sklearn.linear_model.RidgeCV.html).\n",
        "- [ ] Learn more about feature selection:\n",
        "    - [\"Permutation importance\"](https://www.kaggle.com/dansbecker/permutation-importance)\n",
        "    - [scikit-learn's User Guide for Feature Selection](https://scikit-learn.org/stable/modules/feature_selection.html)\n",
        "    - [mlxtend](http://rasbt.github.io/mlxtend/) library\n",
        "    - scikit-learn-contrib libraries: [boruta_py](https://github.com/scikit-learn-contrib/boruta_py) & [stability-selection](https://github.com/scikit-learn-contrib/stability-selection)\n",
        "    - [_Feature Engineering and Selection_](http://www.feat.engineering/) by Kuhn & Johnson.\n",
        "- [ ] Try [statsmodels](https://www.statsmodels.org/stable/index.html) if you’re interested in more inferential statistical approach to linear regression and feature selection, looking at p values and 95% confidence intervals for the coefficients.\n",
        "- [ ] Read [_An Introduction to Statistical Learning_](http://faculty.marshall.usc.edu/gareth-james/ISL/ISLR%20Seventh%20Printing.pdf), Chapters 1-3, for more math & theory, but in an accessible, readable way.\n",
        "- [ ] Try [scikit-learn pipelines](https://scikit-learn.org/stable/modules/compose.html)."
      ]
    },
    {
      "cell_type": "code",
      "metadata": {
        "colab_type": "code",
        "id": "o9eSnDYhUGD7",
        "colab": {}
      },
      "source": [
        "%%capture\n",
        "import sys\n",
        "\n",
        "# If you're on Colab:\n",
        "if 'google.colab' in sys.modules:\n",
        "    DATA_PATH = 'https://raw.githubusercontent.com/LambdaSchool/DS-Unit-2-Applied-Modeling/master/data/'\n",
        "    !pip install category_encoders==2.*\n",
        "\n",
        "# If you're working locally:\n",
        "else:\n",
        "    DATA_PATH = '../data/'\n",
        "    \n",
        "# Ignore this Numpy warning when using Plotly Express:\n",
        "# FutureWarning: Method .ptp is deprecated and will be removed in a future version. Use numpy.ptp instead.\n",
        "import warnings\n",
        "warnings.filterwarnings(action='ignore', category=FutureWarning, module='numpy')"
      ],
      "execution_count": 0,
      "outputs": []
    },
    {
      "cell_type": "code",
      "metadata": {
        "colab_type": "code",
        "id": "QJBD4ruICm1m",
        "colab": {}
      },
      "source": [
        "import pandas as pd\n",
        "import pandas_profiling\n",
        "\n",
        "# Read New York City property sales data\n",
        "df = pd.read_csv(DATA_PATH+'condos/NYC_Citywide_Rolling_Calendar_Sales.csv')\n",
        "\n",
        "# Change column names: replace spaces with underscores\n",
        "df.columns = [col.replace(' ', '_') for col in df]\n",
        "\n",
        "# SALE_PRICE was read as strings.\n",
        "# Remove symbols, convert to integer\n",
        "df['SALE_PRICE'] = (\n",
        "    df['SALE_PRICE']\n",
        "    .str.replace('$','')\n",
        "    .str.replace('-','')\n",
        "    .str.replace(',','')\n",
        "    .astype(int)\n",
        ")"
      ],
      "execution_count": 0,
      "outputs": []
    },
    {
      "cell_type": "code",
      "metadata": {
        "id": "Q1eE0BNYZaF8",
        "colab_type": "code",
        "colab": {}
      },
      "source": [
        "# BOROUGH is a numeric column, but arguably should be a categorical feature,\n",
        "# so convert it from a number to a string\n",
        "df['BOROUGH'] = df['BOROUGH'].astype(str)"
      ],
      "execution_count": 0,
      "outputs": []
    },
    {
      "cell_type": "code",
      "metadata": {
        "id": "hcGhkKwRZaGB",
        "colab_type": "code",
        "colab": {}
      },
      "source": [
        "# Reduce cardinality for NEIGHBORHOOD feature\n",
        "\n",
        "# Get a list of the top 10 neighborhoods\n",
        "top10 = df['NEIGHBORHOOD'].value_counts()[:10].index\n",
        "\n",
        "# At locations where the neighborhood is NOT in the top 10, \n",
        "# replace the neighborhood with 'OTHER'\n",
        "df.loc[~df['NEIGHBORHOOD'].isin(top10), 'NEIGHBORHOOD'] = 'OTHER'"
      ],
      "execution_count": 0,
      "outputs": []
    },
    {
      "cell_type": "code",
      "metadata": {
        "id": "iNu77irKXrnf",
        "colab_type": "code",
        "colab": {}
      },
      "source": [
        "import numpy as np\n",
        "import plotly.express as px\n",
        "import plotly.graph_objs as go\n",
        "from sklearn import preprocessing"
      ],
      "execution_count": 0,
      "outputs": []
    },
    {
      "cell_type": "code",
      "metadata": {
        "id": "81C6lquUZaGE",
        "colab_type": "code",
        "outputId": "ed19ac3c-51bd-4e5e-ee3a-4d1f1872525c",
        "colab": {
          "base_uri": "https://localhost:8080/",
          "height": 443
        }
      },
      "source": [
        "# Viewing The Dataset & The Shape\n",
        "df.head()"
      ],
      "execution_count": 6,
      "outputs": [
        {
          "output_type": "execute_result",
          "data": {
            "text/html": [
              "<div>\n",
              "<style scoped>\n",
              "    .dataframe tbody tr th:only-of-type {\n",
              "        vertical-align: middle;\n",
              "    }\n",
              "\n",
              "    .dataframe tbody tr th {\n",
              "        vertical-align: top;\n",
              "    }\n",
              "\n",
              "    .dataframe thead th {\n",
              "        text-align: right;\n",
              "    }\n",
              "</style>\n",
              "<table border=\"1\" class=\"dataframe\">\n",
              "  <thead>\n",
              "    <tr style=\"text-align: right;\">\n",
              "      <th></th>\n",
              "      <th>BOROUGH</th>\n",
              "      <th>NEIGHBORHOOD</th>\n",
              "      <th>BUILDING_CLASS_CATEGORY</th>\n",
              "      <th>TAX_CLASS_AT_PRESENT</th>\n",
              "      <th>BLOCK</th>\n",
              "      <th>LOT</th>\n",
              "      <th>EASE-MENT</th>\n",
              "      <th>BUILDING_CLASS_AT_PRESENT</th>\n",
              "      <th>ADDRESS</th>\n",
              "      <th>APARTMENT_NUMBER</th>\n",
              "      <th>ZIP_CODE</th>\n",
              "      <th>RESIDENTIAL_UNITS</th>\n",
              "      <th>COMMERCIAL_UNITS</th>\n",
              "      <th>TOTAL_UNITS</th>\n",
              "      <th>LAND_SQUARE_FEET</th>\n",
              "      <th>GROSS_SQUARE_FEET</th>\n",
              "      <th>YEAR_BUILT</th>\n",
              "      <th>TAX_CLASS_AT_TIME_OF_SALE</th>\n",
              "      <th>BUILDING_CLASS_AT_TIME_OF_SALE</th>\n",
              "      <th>SALE_PRICE</th>\n",
              "      <th>SALE_DATE</th>\n",
              "    </tr>\n",
              "  </thead>\n",
              "  <tbody>\n",
              "    <tr>\n",
              "      <th>0</th>\n",
              "      <td>1</td>\n",
              "      <td>OTHER</td>\n",
              "      <td>13 CONDOS - ELEVATOR APARTMENTS</td>\n",
              "      <td>2</td>\n",
              "      <td>716</td>\n",
              "      <td>1246</td>\n",
              "      <td>NaN</td>\n",
              "      <td>R4</td>\n",
              "      <td>447 WEST 18TH STREET, PH12A</td>\n",
              "      <td>PH12A</td>\n",
              "      <td>10011.0</td>\n",
              "      <td>1.0</td>\n",
              "      <td>0.0</td>\n",
              "      <td>1.0</td>\n",
              "      <td>10,733</td>\n",
              "      <td>1979.0</td>\n",
              "      <td>2007.0</td>\n",
              "      <td>2</td>\n",
              "      <td>R4</td>\n",
              "      <td>0</td>\n",
              "      <td>01/01/2019</td>\n",
              "    </tr>\n",
              "    <tr>\n",
              "      <th>1</th>\n",
              "      <td>1</td>\n",
              "      <td>OTHER</td>\n",
              "      <td>21 OFFICE BUILDINGS</td>\n",
              "      <td>4</td>\n",
              "      <td>812</td>\n",
              "      <td>68</td>\n",
              "      <td>NaN</td>\n",
              "      <td>O5</td>\n",
              "      <td>144 WEST 37TH STREET</td>\n",
              "      <td>NaN</td>\n",
              "      <td>10018.0</td>\n",
              "      <td>0.0</td>\n",
              "      <td>6.0</td>\n",
              "      <td>6.0</td>\n",
              "      <td>2,962</td>\n",
              "      <td>15435.0</td>\n",
              "      <td>1920.0</td>\n",
              "      <td>4</td>\n",
              "      <td>O5</td>\n",
              "      <td>0</td>\n",
              "      <td>01/01/2019</td>\n",
              "    </tr>\n",
              "    <tr>\n",
              "      <th>2</th>\n",
              "      <td>1</td>\n",
              "      <td>OTHER</td>\n",
              "      <td>21 OFFICE BUILDINGS</td>\n",
              "      <td>4</td>\n",
              "      <td>839</td>\n",
              "      <td>69</td>\n",
              "      <td>NaN</td>\n",
              "      <td>O5</td>\n",
              "      <td>40 WEST 38TH STREET</td>\n",
              "      <td>NaN</td>\n",
              "      <td>10018.0</td>\n",
              "      <td>0.0</td>\n",
              "      <td>7.0</td>\n",
              "      <td>7.0</td>\n",
              "      <td>2,074</td>\n",
              "      <td>11332.0</td>\n",
              "      <td>1930.0</td>\n",
              "      <td>4</td>\n",
              "      <td>O5</td>\n",
              "      <td>0</td>\n",
              "      <td>01/01/2019</td>\n",
              "    </tr>\n",
              "    <tr>\n",
              "      <th>3</th>\n",
              "      <td>1</td>\n",
              "      <td>OTHER</td>\n",
              "      <td>13 CONDOS - ELEVATOR APARTMENTS</td>\n",
              "      <td>2</td>\n",
              "      <td>592</td>\n",
              "      <td>1041</td>\n",
              "      <td>NaN</td>\n",
              "      <td>R4</td>\n",
              "      <td>1 SHERIDAN SQUARE, 8C</td>\n",
              "      <td>8C</td>\n",
              "      <td>10014.0</td>\n",
              "      <td>1.0</td>\n",
              "      <td>0.0</td>\n",
              "      <td>1.0</td>\n",
              "      <td>0</td>\n",
              "      <td>500.0</td>\n",
              "      <td>0.0</td>\n",
              "      <td>2</td>\n",
              "      <td>R4</td>\n",
              "      <td>0</td>\n",
              "      <td>01/01/2019</td>\n",
              "    </tr>\n",
              "    <tr>\n",
              "      <th>4</th>\n",
              "      <td>1</td>\n",
              "      <td>UPPER EAST SIDE (59-79)</td>\n",
              "      <td>15 CONDOS - 2-10 UNIT RESIDENTIAL</td>\n",
              "      <td>2C</td>\n",
              "      <td>1379</td>\n",
              "      <td>1402</td>\n",
              "      <td>NaN</td>\n",
              "      <td>R1</td>\n",
              "      <td>20 EAST 65TH STREET, B</td>\n",
              "      <td>B</td>\n",
              "      <td>10065.0</td>\n",
              "      <td>1.0</td>\n",
              "      <td>0.0</td>\n",
              "      <td>1.0</td>\n",
              "      <td>0</td>\n",
              "      <td>6406.0</td>\n",
              "      <td>0.0</td>\n",
              "      <td>2</td>\n",
              "      <td>R1</td>\n",
              "      <td>0</td>\n",
              "      <td>01/01/2019</td>\n",
              "    </tr>\n",
              "  </tbody>\n",
              "</table>\n",
              "</div>"
            ],
            "text/plain": [
              "  BOROUGH             NEIGHBORHOOD  ... SALE_PRICE   SALE_DATE\n",
              "0       1                    OTHER  ...          0  01/01/2019\n",
              "1       1                    OTHER  ...          0  01/01/2019\n",
              "2       1                    OTHER  ...          0  01/01/2019\n",
              "3       1                    OTHER  ...          0  01/01/2019\n",
              "4       1  UPPER EAST SIDE (59-79)  ...          0  01/01/2019\n",
              "\n",
              "[5 rows x 21 columns]"
            ]
          },
          "metadata": {
            "tags": []
          },
          "execution_count": 6
        }
      ]
    },
    {
      "cell_type": "code",
      "metadata": {
        "id": "6DjefDi6iJOz",
        "colab_type": "code",
        "outputId": "e6437a08-ea93-4503-e338-5ea817b87370",
        "colab": {
          "base_uri": "https://localhost:8080/",
          "height": 35
        }
      },
      "source": [
        "df.shape"
      ],
      "execution_count": 7,
      "outputs": [
        {
          "output_type": "execute_result",
          "data": {
            "text/plain": [
              "(23040, 21)"
            ]
          },
          "metadata": {
            "tags": []
          },
          "execution_count": 7
        }
      ]
    },
    {
      "cell_type": "code",
      "metadata": {
        "id": "Y8H-6GqTHw_i",
        "colab_type": "code",
        "outputId": "f0126d5d-9049-4de2-9e96-896b0a941655",
        "colab": {
          "base_uri": "https://localhost:8080/",
          "height": 397
        }
      },
      "source": [
        "df.dtypes"
      ],
      "execution_count": 8,
      "outputs": [
        {
          "output_type": "execute_result",
          "data": {
            "text/plain": [
              "BOROUGH                            object\n",
              "NEIGHBORHOOD                       object\n",
              "BUILDING_CLASS_CATEGORY            object\n",
              "TAX_CLASS_AT_PRESENT               object\n",
              "BLOCK                               int64\n",
              "LOT                                 int64\n",
              "EASE-MENT                         float64\n",
              "BUILDING_CLASS_AT_PRESENT          object\n",
              "ADDRESS                            object\n",
              "APARTMENT_NUMBER                   object\n",
              "ZIP_CODE                          float64\n",
              "RESIDENTIAL_UNITS                 float64\n",
              "COMMERCIAL_UNITS                  float64\n",
              "TOTAL_UNITS                       float64\n",
              "LAND_SQUARE_FEET                   object\n",
              "GROSS_SQUARE_FEET                 float64\n",
              "YEAR_BUILT                        float64\n",
              "TAX_CLASS_AT_TIME_OF_SALE           int64\n",
              "BUILDING_CLASS_AT_TIME_OF_SALE     object\n",
              "SALE_PRICE                          int64\n",
              "SALE_DATE                          object\n",
              "dtype: object"
            ]
          },
          "metadata": {
            "tags": []
          },
          "execution_count": 8
        }
      ]
    },
    {
      "cell_type": "code",
      "metadata": {
        "id": "NDVoIGYxHyLY",
        "colab_type": "code",
        "outputId": "0d144a50-6c51-4388-8332-d46db95c0a54",
        "colab": {
          "base_uri": "https://localhost:8080/",
          "height": 325
        }
      },
      "source": [
        "df.describe()"
      ],
      "execution_count": 9,
      "outputs": [
        {
          "output_type": "execute_result",
          "data": {
            "text/html": [
              "<div>\n",
              "<style scoped>\n",
              "    .dataframe tbody tr th:only-of-type {\n",
              "        vertical-align: middle;\n",
              "    }\n",
              "\n",
              "    .dataframe tbody tr th {\n",
              "        vertical-align: top;\n",
              "    }\n",
              "\n",
              "    .dataframe thead th {\n",
              "        text-align: right;\n",
              "    }\n",
              "</style>\n",
              "<table border=\"1\" class=\"dataframe\">\n",
              "  <thead>\n",
              "    <tr style=\"text-align: right;\">\n",
              "      <th></th>\n",
              "      <th>BLOCK</th>\n",
              "      <th>LOT</th>\n",
              "      <th>EASE-MENT</th>\n",
              "      <th>ZIP_CODE</th>\n",
              "      <th>RESIDENTIAL_UNITS</th>\n",
              "      <th>COMMERCIAL_UNITS</th>\n",
              "      <th>TOTAL_UNITS</th>\n",
              "      <th>GROSS_SQUARE_FEET</th>\n",
              "      <th>YEAR_BUILT</th>\n",
              "      <th>TAX_CLASS_AT_TIME_OF_SALE</th>\n",
              "      <th>SALE_PRICE</th>\n",
              "    </tr>\n",
              "  </thead>\n",
              "  <tbody>\n",
              "    <tr>\n",
              "      <th>count</th>\n",
              "      <td>23040.000000</td>\n",
              "      <td>23040.000000</td>\n",
              "      <td>0.0</td>\n",
              "      <td>23039.000000</td>\n",
              "      <td>23039.000000</td>\n",
              "      <td>23039.000000</td>\n",
              "      <td>23039.000000</td>\n",
              "      <td>2.303900e+04</td>\n",
              "      <td>23005.000000</td>\n",
              "      <td>23040.000000</td>\n",
              "      <td>2.304000e+04</td>\n",
              "    </tr>\n",
              "    <tr>\n",
              "      <th>mean</th>\n",
              "      <td>4459.116493</td>\n",
              "      <td>353.948481</td>\n",
              "      <td>NaN</td>\n",
              "      <td>10791.186987</td>\n",
              "      <td>1.827423</td>\n",
              "      <td>0.286514</td>\n",
              "      <td>2.320891</td>\n",
              "      <td>3.508555e+03</td>\n",
              "      <td>1819.671724</td>\n",
              "      <td>1.624479</td>\n",
              "      <td>1.328133e+06</td>\n",
              "    </tr>\n",
              "    <tr>\n",
              "      <th>std</th>\n",
              "      <td>3713.269887</td>\n",
              "      <td>628.025255</td>\n",
              "      <td>NaN</td>\n",
              "      <td>1103.414210</td>\n",
              "      <td>10.090432</td>\n",
              "      <td>5.778224</td>\n",
              "      <td>12.070554</td>\n",
              "      <td>2.218610e+04</td>\n",
              "      <td>488.376571</td>\n",
              "      <td>0.803898</td>\n",
              "      <td>1.025394e+07</td>\n",
              "    </tr>\n",
              "    <tr>\n",
              "      <th>min</th>\n",
              "      <td>1.000000</td>\n",
              "      <td>1.000000</td>\n",
              "      <td>NaN</td>\n",
              "      <td>0.000000</td>\n",
              "      <td>0.000000</td>\n",
              "      <td>-148.000000</td>\n",
              "      <td>0.000000</td>\n",
              "      <td>0.000000e+00</td>\n",
              "      <td>0.000000</td>\n",
              "      <td>1.000000</td>\n",
              "      <td>0.000000e+00</td>\n",
              "    </tr>\n",
              "    <tr>\n",
              "      <th>25%</th>\n",
              "      <td>1341.000000</td>\n",
              "      <td>22.000000</td>\n",
              "      <td>NaN</td>\n",
              "      <td>10306.000000</td>\n",
              "      <td>0.000000</td>\n",
              "      <td>0.000000</td>\n",
              "      <td>1.000000</td>\n",
              "      <td>4.940000e+02</td>\n",
              "      <td>1920.000000</td>\n",
              "      <td>1.000000</td>\n",
              "      <td>0.000000e+00</td>\n",
              "    </tr>\n",
              "    <tr>\n",
              "      <th>50%</th>\n",
              "      <td>3546.000000</td>\n",
              "      <td>49.000000</td>\n",
              "      <td>NaN</td>\n",
              "      <td>11211.000000</td>\n",
              "      <td>1.000000</td>\n",
              "      <td>0.000000</td>\n",
              "      <td>1.000000</td>\n",
              "      <td>1.356000e+03</td>\n",
              "      <td>1940.000000</td>\n",
              "      <td>1.000000</td>\n",
              "      <td>4.550000e+05</td>\n",
              "    </tr>\n",
              "    <tr>\n",
              "      <th>75%</th>\n",
              "      <td>6673.750000</td>\n",
              "      <td>375.000000</td>\n",
              "      <td>NaN</td>\n",
              "      <td>11360.000000</td>\n",
              "      <td>2.000000</td>\n",
              "      <td>0.000000</td>\n",
              "      <td>2.000000</td>\n",
              "      <td>2.280000e+03</td>\n",
              "      <td>1965.000000</td>\n",
              "      <td>2.000000</td>\n",
              "      <td>8.750000e+05</td>\n",
              "    </tr>\n",
              "    <tr>\n",
              "      <th>max</th>\n",
              "      <td>16350.000000</td>\n",
              "      <td>9057.000000</td>\n",
              "      <td>NaN</td>\n",
              "      <td>11697.000000</td>\n",
              "      <td>750.000000</td>\n",
              "      <td>570.000000</td>\n",
              "      <td>755.000000</td>\n",
              "      <td>1.303935e+06</td>\n",
              "      <td>2019.000000</td>\n",
              "      <td>4.000000</td>\n",
              "      <td>8.500000e+08</td>\n",
              "    </tr>\n",
              "  </tbody>\n",
              "</table>\n",
              "</div>"
            ],
            "text/plain": [
              "              BLOCK           LOT  ...  TAX_CLASS_AT_TIME_OF_SALE    SALE_PRICE\n",
              "count  23040.000000  23040.000000  ...               23040.000000  2.304000e+04\n",
              "mean    4459.116493    353.948481  ...                   1.624479  1.328133e+06\n",
              "std     3713.269887    628.025255  ...                   0.803898  1.025394e+07\n",
              "min        1.000000      1.000000  ...                   1.000000  0.000000e+00\n",
              "25%     1341.000000     22.000000  ...                   1.000000  0.000000e+00\n",
              "50%     3546.000000     49.000000  ...                   1.000000  4.550000e+05\n",
              "75%     6673.750000    375.000000  ...                   2.000000  8.750000e+05\n",
              "max    16350.000000   9057.000000  ...                   4.000000  8.500000e+08\n",
              "\n",
              "[8 rows x 11 columns]"
            ]
          },
          "metadata": {
            "tags": []
          },
          "execution_count": 9
        }
      ]
    },
    {
      "cell_type": "code",
      "metadata": {
        "id": "c_v4XFDyH0nh",
        "colab_type": "code",
        "outputId": "f207de84-91a3-4a94-c94c-d1896fdccdde",
        "colab": {
          "base_uri": "https://localhost:8080/",
          "height": 397
        }
      },
      "source": [
        "df.isnull().sum()"
      ],
      "execution_count": 10,
      "outputs": [
        {
          "output_type": "execute_result",
          "data": {
            "text/plain": [
              "BOROUGH                               0\n",
              "NEIGHBORHOOD                          0\n",
              "BUILDING_CLASS_CATEGORY               0\n",
              "TAX_CLASS_AT_PRESENT                  1\n",
              "BLOCK                                 0\n",
              "LOT                                   0\n",
              "EASE-MENT                         23040\n",
              "BUILDING_CLASS_AT_PRESENT             1\n",
              "ADDRESS                               0\n",
              "APARTMENT_NUMBER                  17839\n",
              "ZIP_CODE                              1\n",
              "RESIDENTIAL_UNITS                     1\n",
              "COMMERCIAL_UNITS                      1\n",
              "TOTAL_UNITS                           1\n",
              "LAND_SQUARE_FEET                     53\n",
              "GROSS_SQUARE_FEET                     1\n",
              "YEAR_BUILT                           35\n",
              "TAX_CLASS_AT_TIME_OF_SALE             0\n",
              "BUILDING_CLASS_AT_TIME_OF_SALE        0\n",
              "SALE_PRICE                            0\n",
              "SALE_DATE                             0\n",
              "dtype: int64"
            ]
          },
          "metadata": {
            "tags": []
          },
          "execution_count": 10
        }
      ]
    },
    {
      "cell_type": "code",
      "metadata": {
        "id": "A5nj_VKromeV",
        "colab_type": "code",
        "colab": {
          "base_uri": "https://localhost:8080/",
          "height": 425
        },
        "outputId": "98a44704-562e-4af8-c9e9-a2e95d560873"
      },
      "source": [
        "df = df.drop(['APARTMENT_NUMBER', 'EASE-MENT'], axis=1)\n",
        "df = df.dropna(how='any')\n",
        "df.head()"
      ],
      "execution_count": 11,
      "outputs": [
        {
          "output_type": "execute_result",
          "data": {
            "text/html": [
              "<div>\n",
              "<style scoped>\n",
              "    .dataframe tbody tr th:only-of-type {\n",
              "        vertical-align: middle;\n",
              "    }\n",
              "\n",
              "    .dataframe tbody tr th {\n",
              "        vertical-align: top;\n",
              "    }\n",
              "\n",
              "    .dataframe thead th {\n",
              "        text-align: right;\n",
              "    }\n",
              "</style>\n",
              "<table border=\"1\" class=\"dataframe\">\n",
              "  <thead>\n",
              "    <tr style=\"text-align: right;\">\n",
              "      <th></th>\n",
              "      <th>BOROUGH</th>\n",
              "      <th>NEIGHBORHOOD</th>\n",
              "      <th>BUILDING_CLASS_CATEGORY</th>\n",
              "      <th>TAX_CLASS_AT_PRESENT</th>\n",
              "      <th>BLOCK</th>\n",
              "      <th>LOT</th>\n",
              "      <th>BUILDING_CLASS_AT_PRESENT</th>\n",
              "      <th>ADDRESS</th>\n",
              "      <th>ZIP_CODE</th>\n",
              "      <th>RESIDENTIAL_UNITS</th>\n",
              "      <th>COMMERCIAL_UNITS</th>\n",
              "      <th>TOTAL_UNITS</th>\n",
              "      <th>LAND_SQUARE_FEET</th>\n",
              "      <th>GROSS_SQUARE_FEET</th>\n",
              "      <th>YEAR_BUILT</th>\n",
              "      <th>TAX_CLASS_AT_TIME_OF_SALE</th>\n",
              "      <th>BUILDING_CLASS_AT_TIME_OF_SALE</th>\n",
              "      <th>SALE_PRICE</th>\n",
              "      <th>SALE_DATE</th>\n",
              "    </tr>\n",
              "  </thead>\n",
              "  <tbody>\n",
              "    <tr>\n",
              "      <th>0</th>\n",
              "      <td>1</td>\n",
              "      <td>OTHER</td>\n",
              "      <td>13 CONDOS - ELEVATOR APARTMENTS</td>\n",
              "      <td>2</td>\n",
              "      <td>716</td>\n",
              "      <td>1246</td>\n",
              "      <td>R4</td>\n",
              "      <td>447 WEST 18TH STREET, PH12A</td>\n",
              "      <td>10011.0</td>\n",
              "      <td>1.0</td>\n",
              "      <td>0.0</td>\n",
              "      <td>1.0</td>\n",
              "      <td>10,733</td>\n",
              "      <td>1979.0</td>\n",
              "      <td>2007.0</td>\n",
              "      <td>2</td>\n",
              "      <td>R4</td>\n",
              "      <td>0</td>\n",
              "      <td>01/01/2019</td>\n",
              "    </tr>\n",
              "    <tr>\n",
              "      <th>1</th>\n",
              "      <td>1</td>\n",
              "      <td>OTHER</td>\n",
              "      <td>21 OFFICE BUILDINGS</td>\n",
              "      <td>4</td>\n",
              "      <td>812</td>\n",
              "      <td>68</td>\n",
              "      <td>O5</td>\n",
              "      <td>144 WEST 37TH STREET</td>\n",
              "      <td>10018.0</td>\n",
              "      <td>0.0</td>\n",
              "      <td>6.0</td>\n",
              "      <td>6.0</td>\n",
              "      <td>2,962</td>\n",
              "      <td>15435.0</td>\n",
              "      <td>1920.0</td>\n",
              "      <td>4</td>\n",
              "      <td>O5</td>\n",
              "      <td>0</td>\n",
              "      <td>01/01/2019</td>\n",
              "    </tr>\n",
              "    <tr>\n",
              "      <th>2</th>\n",
              "      <td>1</td>\n",
              "      <td>OTHER</td>\n",
              "      <td>21 OFFICE BUILDINGS</td>\n",
              "      <td>4</td>\n",
              "      <td>839</td>\n",
              "      <td>69</td>\n",
              "      <td>O5</td>\n",
              "      <td>40 WEST 38TH STREET</td>\n",
              "      <td>10018.0</td>\n",
              "      <td>0.0</td>\n",
              "      <td>7.0</td>\n",
              "      <td>7.0</td>\n",
              "      <td>2,074</td>\n",
              "      <td>11332.0</td>\n",
              "      <td>1930.0</td>\n",
              "      <td>4</td>\n",
              "      <td>O5</td>\n",
              "      <td>0</td>\n",
              "      <td>01/01/2019</td>\n",
              "    </tr>\n",
              "    <tr>\n",
              "      <th>3</th>\n",
              "      <td>1</td>\n",
              "      <td>OTHER</td>\n",
              "      <td>13 CONDOS - ELEVATOR APARTMENTS</td>\n",
              "      <td>2</td>\n",
              "      <td>592</td>\n",
              "      <td>1041</td>\n",
              "      <td>R4</td>\n",
              "      <td>1 SHERIDAN SQUARE, 8C</td>\n",
              "      <td>10014.0</td>\n",
              "      <td>1.0</td>\n",
              "      <td>0.0</td>\n",
              "      <td>1.0</td>\n",
              "      <td>0</td>\n",
              "      <td>500.0</td>\n",
              "      <td>0.0</td>\n",
              "      <td>2</td>\n",
              "      <td>R4</td>\n",
              "      <td>0</td>\n",
              "      <td>01/01/2019</td>\n",
              "    </tr>\n",
              "    <tr>\n",
              "      <th>4</th>\n",
              "      <td>1</td>\n",
              "      <td>UPPER EAST SIDE (59-79)</td>\n",
              "      <td>15 CONDOS - 2-10 UNIT RESIDENTIAL</td>\n",
              "      <td>2C</td>\n",
              "      <td>1379</td>\n",
              "      <td>1402</td>\n",
              "      <td>R1</td>\n",
              "      <td>20 EAST 65TH STREET, B</td>\n",
              "      <td>10065.0</td>\n",
              "      <td>1.0</td>\n",
              "      <td>0.0</td>\n",
              "      <td>1.0</td>\n",
              "      <td>0</td>\n",
              "      <td>6406.0</td>\n",
              "      <td>0.0</td>\n",
              "      <td>2</td>\n",
              "      <td>R1</td>\n",
              "      <td>0</td>\n",
              "      <td>01/01/2019</td>\n",
              "    </tr>\n",
              "  </tbody>\n",
              "</table>\n",
              "</div>"
            ],
            "text/plain": [
              "  BOROUGH             NEIGHBORHOOD  ... SALE_PRICE   SALE_DATE\n",
              "0       1                    OTHER  ...          0  01/01/2019\n",
              "1       1                    OTHER  ...          0  01/01/2019\n",
              "2       1                    OTHER  ...          0  01/01/2019\n",
              "3       1                    OTHER  ...          0  01/01/2019\n",
              "4       1  UPPER EAST SIDE (59-79)  ...          0  01/01/2019\n",
              "\n",
              "[5 rows x 19 columns]"
            ]
          },
          "metadata": {
            "tags": []
          },
          "execution_count": 11
        }
      ]
    },
    {
      "cell_type": "code",
      "metadata": {
        "id": "_ZJlj8ntICnK",
        "colab_type": "code",
        "colab": {}
      },
      "source": [
        "# Subset Data\n",
        "df2 = df[(df['SALE_PRICE'] > 100000) & (df['SALE_PRICE'] < 2000000) & (df['BUILDING_CLASS_CATEGORY'] == '01 ONE FAMILY DWELLINGS')]"
      ],
      "execution_count": 0,
      "outputs": []
    },
    {
      "cell_type": "code",
      "metadata": {
        "id": "mZhge4dJifQs",
        "colab_type": "code",
        "colab": {
          "base_uri": "https://localhost:8080/",
          "height": 104
        },
        "outputId": "0f64b5b1-757a-44e8-c265-775ff2cf5278"
      },
      "source": [
        "df2['BUILDING_CLASS_CATEGORY'].describe()"
      ],
      "execution_count": 13,
      "outputs": [
        {
          "output_type": "execute_result",
          "data": {
            "text/plain": [
              "count                        3151\n",
              "unique                          1\n",
              "top       01 ONE FAMILY DWELLINGS\n",
              "freq                         3151\n",
              "Name: BUILDING_CLASS_CATEGORY, dtype: object"
            ]
          },
          "metadata": {
            "tags": []
          },
          "execution_count": 13
        }
      ]
    },
    {
      "cell_type": "code",
      "metadata": {
        "id": "WGqVa4ZAKeDO",
        "colab_type": "code",
        "outputId": "f9b7b9c0-999b-4e83-b658-d8f46e59559b",
        "colab": {
          "base_uri": "https://localhost:8080/",
          "height": 35
        }
      },
      "source": [
        "df2.shape"
      ],
      "execution_count": 14,
      "outputs": [
        {
          "output_type": "execute_result",
          "data": {
            "text/plain": [
              "(3151, 19)"
            ]
          },
          "metadata": {
            "tags": []
          },
          "execution_count": 14
        }
      ]
    },
    {
      "cell_type": "code",
      "metadata": {
        "id": "xWPC3jDniu8-",
        "colab_type": "code",
        "colab": {
          "base_uri": "https://localhost:8080/",
          "height": 363
        },
        "outputId": "385d4996-d34b-4d14-dfd2-b82ac8b866b4"
      },
      "source": [
        "df2.dtypes"
      ],
      "execution_count": 15,
      "outputs": [
        {
          "output_type": "execute_result",
          "data": {
            "text/plain": [
              "BOROUGH                            object\n",
              "NEIGHBORHOOD                       object\n",
              "BUILDING_CLASS_CATEGORY            object\n",
              "TAX_CLASS_AT_PRESENT               object\n",
              "BLOCK                               int64\n",
              "LOT                                 int64\n",
              "BUILDING_CLASS_AT_PRESENT          object\n",
              "ADDRESS                            object\n",
              "ZIP_CODE                          float64\n",
              "RESIDENTIAL_UNITS                 float64\n",
              "COMMERCIAL_UNITS                  float64\n",
              "TOTAL_UNITS                       float64\n",
              "LAND_SQUARE_FEET                   object\n",
              "GROSS_SQUARE_FEET                 float64\n",
              "YEAR_BUILT                        float64\n",
              "TAX_CLASS_AT_TIME_OF_SALE           int64\n",
              "BUILDING_CLASS_AT_TIME_OF_SALE     object\n",
              "SALE_PRICE                          int64\n",
              "SALE_DATE                          object\n",
              "dtype: object"
            ]
          },
          "metadata": {
            "tags": []
          },
          "execution_count": 15
        }
      ]
    },
    {
      "cell_type": "code",
      "metadata": {
        "id": "f4xpzbJwaROD",
        "colab_type": "code",
        "colab": {
          "base_uri": "https://localhost:8080/",
          "height": 296
        },
        "outputId": "8581d8e1-3496-406f-9681-65aa211d1e19"
      },
      "source": [
        "df2['SALE_DATE'] = pd.to_datetime(df['SALE_DATE'], infer_datetime_format=True)\n",
        "df2['SALE_DATE'].describe()"
      ],
      "execution_count": 16,
      "outputs": [
        {
          "output_type": "stream",
          "text": [
            "/usr/local/lib/python3.6/dist-packages/ipykernel_launcher.py:1: SettingWithCopyWarning:\n",
            "\n",
            "\n",
            "A value is trying to be set on a copy of a slice from a DataFrame.\n",
            "Try using .loc[row_indexer,col_indexer] = value instead\n",
            "\n",
            "See the caveats in the documentation: http://pandas.pydata.org/pandas-docs/stable/user_guide/indexing.html#returning-a-view-versus-a-copy\n",
            "\n"
          ],
          "name": "stderr"
        },
        {
          "output_type": "execute_result",
          "data": {
            "text/plain": [
              "count                    3151\n",
              "unique                     91\n",
              "top       2019-01-31 00:00:00\n",
              "freq                       78\n",
              "first     2019-01-01 00:00:00\n",
              "last      2019-04-30 00:00:00\n",
              "Name: SALE_DATE, dtype: object"
            ]
          },
          "metadata": {
            "tags": []
          },
          "execution_count": 16
        }
      ]
    },
    {
      "cell_type": "code",
      "metadata": {
        "id": "x0Q6FtQEhg2r",
        "colab_type": "code",
        "colab": {
          "base_uri": "https://localhost:8080/",
          "height": 331
        },
        "outputId": "6f4138e2-3020-4fa1-ee4d-4a9c76573c2a"
      },
      "source": [
        "df2['MONTH'] = df2['SALE_DATE'].dt.month\n",
        "df2['MONTH'].describe()"
      ],
      "execution_count": 17,
      "outputs": [
        {
          "output_type": "stream",
          "text": [
            "/usr/local/lib/python3.6/dist-packages/ipykernel_launcher.py:1: SettingWithCopyWarning:\n",
            "\n",
            "\n",
            "A value is trying to be set on a copy of a slice from a DataFrame.\n",
            "Try using .loc[row_indexer,col_indexer] = value instead\n",
            "\n",
            "See the caveats in the documentation: http://pandas.pydata.org/pandas-docs/stable/user_guide/indexing.html#returning-a-view-versus-a-copy\n",
            "\n"
          ],
          "name": "stderr"
        },
        {
          "output_type": "execute_result",
          "data": {
            "text/plain": [
              "count    3151.00000\n",
              "mean        2.36179\n",
              "std         1.11406\n",
              "min         1.00000\n",
              "25%         1.00000\n",
              "50%         2.00000\n",
              "75%         3.00000\n",
              "max         4.00000\n",
              "Name: MONTH, dtype: float64"
            ]
          },
          "metadata": {
            "tags": []
          },
          "execution_count": 17
        }
      ]
    },
    {
      "cell_type": "code",
      "metadata": {
        "id": "UOW3UHaPkmkQ",
        "colab_type": "code",
        "colab": {
          "base_uri": "https://localhost:8080/",
          "height": 104
        },
        "outputId": "5891606a-2d31-4d71-b543-3d15d303a719"
      },
      "source": [
        "df2['TOTAL_UNITS'].value_counts()"
      ],
      "execution_count": 18,
      "outputs": [
        {
          "output_type": "execute_result",
          "data": {
            "text/plain": [
              "1.0    3061\n",
              "2.0      49\n",
              "0.0      40\n",
              "3.0       1\n",
              "Name: TOTAL_UNITS, dtype: int64"
            ]
          },
          "metadata": {
            "tags": []
          },
          "execution_count": 18
        }
      ]
    },
    {
      "cell_type": "code",
      "metadata": {
        "id": "zTRKj160YNt9",
        "colab_type": "code",
        "colab": {}
      },
      "source": [
        "from sklearn.datasets import load_iris\n",
        "from sklearn.metrics import mean_absolute_error\n",
        "from sklearn.metrics import mean_squared_error\n",
        "from sklearn.metrics import r2_score"
      ],
      "execution_count": 0,
      "outputs": []
    },
    {
      "cell_type": "code",
      "metadata": {
        "id": "SsXvtEqPjxm4",
        "colab_type": "code",
        "colab": {}
      },
      "source": [
        "# Train/Test Split\n",
        "train = df2[df2['MONTH'] <= 3]\n",
        "test = df2[df2['MONTH'] > 3]"
      ],
      "execution_count": 0,
      "outputs": []
    },
    {
      "cell_type": "code",
      "metadata": {
        "id": "Hy4F8s1ikK2O",
        "colab_type": "code",
        "colab": {
          "base_uri": "https://localhost:8080/",
          "height": 405
        },
        "outputId": "4b093864-e7e2-4713-fb0b-03f442f96177"
      },
      "source": [
        "train.isnull().any()\n",
        "test.isnull().any()\n",
        "test.describe(exclude='number')\n",
        "train.describe(exclude='number').T.sort_values(by='unique')"
      ],
      "execution_count": 21,
      "outputs": [
        {
          "output_type": "execute_result",
          "data": {
            "text/html": [
              "<div>\n",
              "<style scoped>\n",
              "    .dataframe tbody tr th:only-of-type {\n",
              "        vertical-align: middle;\n",
              "    }\n",
              "\n",
              "    .dataframe tbody tr th {\n",
              "        vertical-align: top;\n",
              "    }\n",
              "\n",
              "    .dataframe thead th {\n",
              "        text-align: right;\n",
              "    }\n",
              "</style>\n",
              "<table border=\"1\" class=\"dataframe\">\n",
              "  <thead>\n",
              "    <tr style=\"text-align: right;\">\n",
              "      <th></th>\n",
              "      <th>count</th>\n",
              "      <th>unique</th>\n",
              "      <th>top</th>\n",
              "      <th>freq</th>\n",
              "      <th>first</th>\n",
              "      <th>last</th>\n",
              "    </tr>\n",
              "  </thead>\n",
              "  <tbody>\n",
              "    <tr>\n",
              "      <th>BUILDING_CLASS_CATEGORY</th>\n",
              "      <td>2507</td>\n",
              "      <td>1</td>\n",
              "      <td>01 ONE FAMILY DWELLINGS</td>\n",
              "      <td>2507</td>\n",
              "      <td>NaT</td>\n",
              "      <td>NaT</td>\n",
              "    </tr>\n",
              "    <tr>\n",
              "      <th>TAX_CLASS_AT_PRESENT</th>\n",
              "      <td>2507</td>\n",
              "      <td>2</td>\n",
              "      <td>1</td>\n",
              "      <td>2476</td>\n",
              "      <td>NaT</td>\n",
              "      <td>NaT</td>\n",
              "    </tr>\n",
              "    <tr>\n",
              "      <th>BOROUGH</th>\n",
              "      <td>2507</td>\n",
              "      <td>5</td>\n",
              "      <td>4</td>\n",
              "      <td>1204</td>\n",
              "      <td>NaT</td>\n",
              "      <td>NaT</td>\n",
              "    </tr>\n",
              "    <tr>\n",
              "      <th>NEIGHBORHOOD</th>\n",
              "      <td>2507</td>\n",
              "      <td>6</td>\n",
              "      <td>OTHER</td>\n",
              "      <td>2382</td>\n",
              "      <td>NaT</td>\n",
              "      <td>NaT</td>\n",
              "    </tr>\n",
              "    <tr>\n",
              "      <th>BUILDING_CLASS_AT_TIME_OF_SALE</th>\n",
              "      <td>2507</td>\n",
              "      <td>11</td>\n",
              "      <td>A1</td>\n",
              "      <td>919</td>\n",
              "      <td>NaT</td>\n",
              "      <td>NaT</td>\n",
              "    </tr>\n",
              "    <tr>\n",
              "      <th>BUILDING_CLASS_AT_PRESENT</th>\n",
              "      <td>2507</td>\n",
              "      <td>13</td>\n",
              "      <td>A1</td>\n",
              "      <td>919</td>\n",
              "      <td>NaT</td>\n",
              "      <td>NaT</td>\n",
              "    </tr>\n",
              "    <tr>\n",
              "      <th>SALE_DATE</th>\n",
              "      <td>2507</td>\n",
              "      <td>68</td>\n",
              "      <td>2019-01-31 00:00:00</td>\n",
              "      <td>78</td>\n",
              "      <td>2019-01-01</td>\n",
              "      <td>2019-03-30</td>\n",
              "    </tr>\n",
              "    <tr>\n",
              "      <th>LAND_SQUARE_FEET</th>\n",
              "      <td>2507</td>\n",
              "      <td>887</td>\n",
              "      <td>4,000</td>\n",
              "      <td>234</td>\n",
              "      <td>NaT</td>\n",
              "      <td>NaT</td>\n",
              "    </tr>\n",
              "    <tr>\n",
              "      <th>ADDRESS</th>\n",
              "      <td>2507</td>\n",
              "      <td>2497</td>\n",
              "      <td>118-20 202ND STREET</td>\n",
              "      <td>2</td>\n",
              "      <td>NaT</td>\n",
              "      <td>NaT</td>\n",
              "    </tr>\n",
              "  </tbody>\n",
              "</table>\n",
              "</div>"
            ],
            "text/plain": [
              "                               count unique  ...      first       last\n",
              "BUILDING_CLASS_CATEGORY         2507      1  ...        NaT        NaT\n",
              "TAX_CLASS_AT_PRESENT            2507      2  ...        NaT        NaT\n",
              "BOROUGH                         2507      5  ...        NaT        NaT\n",
              "NEIGHBORHOOD                    2507      6  ...        NaT        NaT\n",
              "BUILDING_CLASS_AT_TIME_OF_SALE  2507     11  ...        NaT        NaT\n",
              "BUILDING_CLASS_AT_PRESENT       2507     13  ...        NaT        NaT\n",
              "SALE_DATE                       2507     68  ... 2019-01-01 2019-03-30\n",
              "LAND_SQUARE_FEET                2507    887  ...        NaT        NaT\n",
              "ADDRESS                         2507   2497  ...        NaT        NaT\n",
              "\n",
              "[9 rows x 6 columns]"
            ]
          },
          "metadata": {
            "tags": []
          },
          "execution_count": 21
        }
      ]
    },
    {
      "cell_type": "code",
      "metadata": {
        "id": "tCIDTr--keoz",
        "colab_type": "code",
        "colab": {}
      },
      "source": [
        "target = 'SALE_PRICE'\n",
        "high_cardinality = ['ADDRESS', 'LAND_SQUARE_FEET', 'SALE_DATE', 'MONTH']\n",
        "features = train.columns.drop([target] + high_cardinality)"
      ],
      "execution_count": 0,
      "outputs": []
    },
    {
      "cell_type": "code",
      "metadata": {
        "id": "pZH6B_EzlY9U",
        "colab_type": "code",
        "colab": {}
      },
      "source": [
        "X_train = train[features]\n",
        "y_train = train[target]\n",
        "X_test = test[features]\n",
        "y_test = test[target]"
      ],
      "execution_count": 0,
      "outputs": []
    },
    {
      "cell_type": "code",
      "metadata": {
        "id": "DXlLOEvDl0Qq",
        "colab_type": "code",
        "colab": {}
      },
      "source": [
        "import category_encoders as ce\n",
        "\n",
        "encoder = ce.OneHotEncoder(use_cat_names=True)\n",
        "X_train = encoder.fit_transform(X_train)\n",
        "X_test = encoder.transform(X_test)"
      ],
      "execution_count": 0,
      "outputs": []
    },
    {
      "cell_type": "code",
      "metadata": {
        "id": "2a-TpYl-p48W",
        "colab_type": "code",
        "colab": {
          "base_uri": "https://localhost:8080/",
          "height": 35
        },
        "outputId": "96ad0f25-b6f2-452e-d302-774da6c9e576"
      },
      "source": [
        "X_train.shape, X_test.shape"
      ],
      "execution_count": 27,
      "outputs": [
        {
          "output_type": "execute_result",
          "data": {
            "text/plain": [
              "((2507, 47), (644, 47))"
            ]
          },
          "metadata": {
            "tags": []
          },
          "execution_count": 27
        }
      ]
    },
    {
      "cell_type": "code",
      "metadata": {
        "id": "epKxlm6IqGCs",
        "colab_type": "code",
        "colab": {
          "base_uri": "https://localhost:8080/",
          "height": 445
        },
        "outputId": "a1f57f23-3da4-4575-f461-51068c10c876"
      },
      "source": [
        "X_train"
      ],
      "execution_count": 28,
      "outputs": [
        {
          "output_type": "execute_result",
          "data": {
            "text/html": [
              "<div>\n",
              "<style scoped>\n",
              "    .dataframe tbody tr th:only-of-type {\n",
              "        vertical-align: middle;\n",
              "    }\n",
              "\n",
              "    .dataframe tbody tr th {\n",
              "        vertical-align: top;\n",
              "    }\n",
              "\n",
              "    .dataframe thead th {\n",
              "        text-align: right;\n",
              "    }\n",
              "</style>\n",
              "<table border=\"1\" class=\"dataframe\">\n",
              "  <thead>\n",
              "    <tr style=\"text-align: right;\">\n",
              "      <th></th>\n",
              "      <th>BOROUGH_3</th>\n",
              "      <th>BOROUGH_4</th>\n",
              "      <th>BOROUGH_2</th>\n",
              "      <th>BOROUGH_5</th>\n",
              "      <th>BOROUGH_1</th>\n",
              "      <th>NEIGHBORHOOD_OTHER</th>\n",
              "      <th>NEIGHBORHOOD_FLUSHING-NORTH</th>\n",
              "      <th>NEIGHBORHOOD_BEDFORD STUYVESANT</th>\n",
              "      <th>NEIGHBORHOOD_FOREST HILLS</th>\n",
              "      <th>NEIGHBORHOOD_BOROUGH PARK</th>\n",
              "      <th>NEIGHBORHOOD_ASTORIA</th>\n",
              "      <th>BUILDING_CLASS_CATEGORY_01 ONE FAMILY DWELLINGS</th>\n",
              "      <th>TAX_CLASS_AT_PRESENT_1</th>\n",
              "      <th>TAX_CLASS_AT_PRESENT_1D</th>\n",
              "      <th>BLOCK</th>\n",
              "      <th>LOT</th>\n",
              "      <th>BUILDING_CLASS_AT_PRESENT_A9</th>\n",
              "      <th>BUILDING_CLASS_AT_PRESENT_A1</th>\n",
              "      <th>BUILDING_CLASS_AT_PRESENT_A5</th>\n",
              "      <th>BUILDING_CLASS_AT_PRESENT_A0</th>\n",
              "      <th>BUILDING_CLASS_AT_PRESENT_A2</th>\n",
              "      <th>BUILDING_CLASS_AT_PRESENT_A3</th>\n",
              "      <th>BUILDING_CLASS_AT_PRESENT_S1</th>\n",
              "      <th>BUILDING_CLASS_AT_PRESENT_A4</th>\n",
              "      <th>BUILDING_CLASS_AT_PRESENT_A6</th>\n",
              "      <th>BUILDING_CLASS_AT_PRESENT_A8</th>\n",
              "      <th>BUILDING_CLASS_AT_PRESENT_B2</th>\n",
              "      <th>BUILDING_CLASS_AT_PRESENT_S0</th>\n",
              "      <th>BUILDING_CLASS_AT_PRESENT_B3</th>\n",
              "      <th>ZIP_CODE</th>\n",
              "      <th>RESIDENTIAL_UNITS</th>\n",
              "      <th>COMMERCIAL_UNITS</th>\n",
              "      <th>TOTAL_UNITS</th>\n",
              "      <th>GROSS_SQUARE_FEET</th>\n",
              "      <th>YEAR_BUILT</th>\n",
              "      <th>TAX_CLASS_AT_TIME_OF_SALE</th>\n",
              "      <th>BUILDING_CLASS_AT_TIME_OF_SALE_A9</th>\n",
              "      <th>BUILDING_CLASS_AT_TIME_OF_SALE_A1</th>\n",
              "      <th>BUILDING_CLASS_AT_TIME_OF_SALE_A5</th>\n",
              "      <th>BUILDING_CLASS_AT_TIME_OF_SALE_A0</th>\n",
              "      <th>BUILDING_CLASS_AT_TIME_OF_SALE_A2</th>\n",
              "      <th>BUILDING_CLASS_AT_TIME_OF_SALE_A3</th>\n",
              "      <th>BUILDING_CLASS_AT_TIME_OF_SALE_S1</th>\n",
              "      <th>BUILDING_CLASS_AT_TIME_OF_SALE_A4</th>\n",
              "      <th>BUILDING_CLASS_AT_TIME_OF_SALE_A6</th>\n",
              "      <th>BUILDING_CLASS_AT_TIME_OF_SALE_A8</th>\n",
              "      <th>BUILDING_CLASS_AT_TIME_OF_SALE_S0</th>\n",
              "    </tr>\n",
              "  </thead>\n",
              "  <tbody>\n",
              "    <tr>\n",
              "      <th>44</th>\n",
              "      <td>1</td>\n",
              "      <td>0</td>\n",
              "      <td>0</td>\n",
              "      <td>0</td>\n",
              "      <td>0</td>\n",
              "      <td>1</td>\n",
              "      <td>0</td>\n",
              "      <td>0</td>\n",
              "      <td>0</td>\n",
              "      <td>0</td>\n",
              "      <td>0</td>\n",
              "      <td>1</td>\n",
              "      <td>1</td>\n",
              "      <td>0</td>\n",
              "      <td>5495</td>\n",
              "      <td>801</td>\n",
              "      <td>1</td>\n",
              "      <td>0</td>\n",
              "      <td>0</td>\n",
              "      <td>0</td>\n",
              "      <td>0</td>\n",
              "      <td>0</td>\n",
              "      <td>0</td>\n",
              "      <td>0</td>\n",
              "      <td>0</td>\n",
              "      <td>0</td>\n",
              "      <td>0</td>\n",
              "      <td>0</td>\n",
              "      <td>0</td>\n",
              "      <td>11230.0</td>\n",
              "      <td>1.0</td>\n",
              "      <td>0.0</td>\n",
              "      <td>1.0</td>\n",
              "      <td>1325.0</td>\n",
              "      <td>1930.0</td>\n",
              "      <td>1</td>\n",
              "      <td>1</td>\n",
              "      <td>0</td>\n",
              "      <td>0</td>\n",
              "      <td>0</td>\n",
              "      <td>0</td>\n",
              "      <td>0</td>\n",
              "      <td>0</td>\n",
              "      <td>0</td>\n",
              "      <td>0</td>\n",
              "      <td>0</td>\n",
              "      <td>0</td>\n",
              "    </tr>\n",
              "    <tr>\n",
              "      <th>61</th>\n",
              "      <td>0</td>\n",
              "      <td>1</td>\n",
              "      <td>0</td>\n",
              "      <td>0</td>\n",
              "      <td>0</td>\n",
              "      <td>1</td>\n",
              "      <td>0</td>\n",
              "      <td>0</td>\n",
              "      <td>0</td>\n",
              "      <td>0</td>\n",
              "      <td>0</td>\n",
              "      <td>1</td>\n",
              "      <td>1</td>\n",
              "      <td>0</td>\n",
              "      <td>7918</td>\n",
              "      <td>72</td>\n",
              "      <td>0</td>\n",
              "      <td>1</td>\n",
              "      <td>0</td>\n",
              "      <td>0</td>\n",
              "      <td>0</td>\n",
              "      <td>0</td>\n",
              "      <td>0</td>\n",
              "      <td>0</td>\n",
              "      <td>0</td>\n",
              "      <td>0</td>\n",
              "      <td>0</td>\n",
              "      <td>0</td>\n",
              "      <td>0</td>\n",
              "      <td>11427.0</td>\n",
              "      <td>1.0</td>\n",
              "      <td>0.0</td>\n",
              "      <td>1.0</td>\n",
              "      <td>2001.0</td>\n",
              "      <td>1940.0</td>\n",
              "      <td>1</td>\n",
              "      <td>0</td>\n",
              "      <td>1</td>\n",
              "      <td>0</td>\n",
              "      <td>0</td>\n",
              "      <td>0</td>\n",
              "      <td>0</td>\n",
              "      <td>0</td>\n",
              "      <td>0</td>\n",
              "      <td>0</td>\n",
              "      <td>0</td>\n",
              "      <td>0</td>\n",
              "    </tr>\n",
              "    <tr>\n",
              "      <th>78</th>\n",
              "      <td>0</td>\n",
              "      <td>0</td>\n",
              "      <td>1</td>\n",
              "      <td>0</td>\n",
              "      <td>0</td>\n",
              "      <td>1</td>\n",
              "      <td>0</td>\n",
              "      <td>0</td>\n",
              "      <td>0</td>\n",
              "      <td>0</td>\n",
              "      <td>0</td>\n",
              "      <td>1</td>\n",
              "      <td>1</td>\n",
              "      <td>0</td>\n",
              "      <td>4210</td>\n",
              "      <td>19</td>\n",
              "      <td>0</td>\n",
              "      <td>1</td>\n",
              "      <td>0</td>\n",
              "      <td>0</td>\n",
              "      <td>0</td>\n",
              "      <td>0</td>\n",
              "      <td>0</td>\n",
              "      <td>0</td>\n",
              "      <td>0</td>\n",
              "      <td>0</td>\n",
              "      <td>0</td>\n",
              "      <td>0</td>\n",
              "      <td>0</td>\n",
              "      <td>10461.0</td>\n",
              "      <td>1.0</td>\n",
              "      <td>0.0</td>\n",
              "      <td>1.0</td>\n",
              "      <td>2043.0</td>\n",
              "      <td>1925.0</td>\n",
              "      <td>1</td>\n",
              "      <td>0</td>\n",
              "      <td>1</td>\n",
              "      <td>0</td>\n",
              "      <td>0</td>\n",
              "      <td>0</td>\n",
              "      <td>0</td>\n",
              "      <td>0</td>\n",
              "      <td>0</td>\n",
              "      <td>0</td>\n",
              "      <td>0</td>\n",
              "      <td>0</td>\n",
              "    </tr>\n",
              "    <tr>\n",
              "      <th>108</th>\n",
              "      <td>1</td>\n",
              "      <td>0</td>\n",
              "      <td>0</td>\n",
              "      <td>0</td>\n",
              "      <td>0</td>\n",
              "      <td>1</td>\n",
              "      <td>0</td>\n",
              "      <td>0</td>\n",
              "      <td>0</td>\n",
              "      <td>0</td>\n",
              "      <td>0</td>\n",
              "      <td>1</td>\n",
              "      <td>1</td>\n",
              "      <td>0</td>\n",
              "      <td>5212</td>\n",
              "      <td>69</td>\n",
              "      <td>0</td>\n",
              "      <td>1</td>\n",
              "      <td>0</td>\n",
              "      <td>0</td>\n",
              "      <td>0</td>\n",
              "      <td>0</td>\n",
              "      <td>0</td>\n",
              "      <td>0</td>\n",
              "      <td>0</td>\n",
              "      <td>0</td>\n",
              "      <td>0</td>\n",
              "      <td>0</td>\n",
              "      <td>0</td>\n",
              "      <td>11226.0</td>\n",
              "      <td>1.0</td>\n",
              "      <td>0.0</td>\n",
              "      <td>1.0</td>\n",
              "      <td>2680.0</td>\n",
              "      <td>1899.0</td>\n",
              "      <td>1</td>\n",
              "      <td>0</td>\n",
              "      <td>1</td>\n",
              "      <td>0</td>\n",
              "      <td>0</td>\n",
              "      <td>0</td>\n",
              "      <td>0</td>\n",
              "      <td>0</td>\n",
              "      <td>0</td>\n",
              "      <td>0</td>\n",
              "      <td>0</td>\n",
              "      <td>0</td>\n",
              "    </tr>\n",
              "    <tr>\n",
              "      <th>111</th>\n",
              "      <td>1</td>\n",
              "      <td>0</td>\n",
              "      <td>0</td>\n",
              "      <td>0</td>\n",
              "      <td>0</td>\n",
              "      <td>1</td>\n",
              "      <td>0</td>\n",
              "      <td>0</td>\n",
              "      <td>0</td>\n",
              "      <td>0</td>\n",
              "      <td>0</td>\n",
              "      <td>1</td>\n",
              "      <td>1</td>\n",
              "      <td>0</td>\n",
              "      <td>7930</td>\n",
              "      <td>121</td>\n",
              "      <td>0</td>\n",
              "      <td>0</td>\n",
              "      <td>1</td>\n",
              "      <td>0</td>\n",
              "      <td>0</td>\n",
              "      <td>0</td>\n",
              "      <td>0</td>\n",
              "      <td>0</td>\n",
              "      <td>0</td>\n",
              "      <td>0</td>\n",
              "      <td>0</td>\n",
              "      <td>0</td>\n",
              "      <td>0</td>\n",
              "      <td>11203.0</td>\n",
              "      <td>1.0</td>\n",
              "      <td>0.0</td>\n",
              "      <td>1.0</td>\n",
              "      <td>1872.0</td>\n",
              "      <td>1940.0</td>\n",
              "      <td>1</td>\n",
              "      <td>0</td>\n",
              "      <td>0</td>\n",
              "      <td>1</td>\n",
              "      <td>0</td>\n",
              "      <td>0</td>\n",
              "      <td>0</td>\n",
              "      <td>0</td>\n",
              "      <td>0</td>\n",
              "      <td>0</td>\n",
              "      <td>0</td>\n",
              "      <td>0</td>\n",
              "    </tr>\n",
              "    <tr>\n",
              "      <th>...</th>\n",
              "      <td>...</td>\n",
              "      <td>...</td>\n",
              "      <td>...</td>\n",
              "      <td>...</td>\n",
              "      <td>...</td>\n",
              "      <td>...</td>\n",
              "      <td>...</td>\n",
              "      <td>...</td>\n",
              "      <td>...</td>\n",
              "      <td>...</td>\n",
              "      <td>...</td>\n",
              "      <td>...</td>\n",
              "      <td>...</td>\n",
              "      <td>...</td>\n",
              "      <td>...</td>\n",
              "      <td>...</td>\n",
              "      <td>...</td>\n",
              "      <td>...</td>\n",
              "      <td>...</td>\n",
              "      <td>...</td>\n",
              "      <td>...</td>\n",
              "      <td>...</td>\n",
              "      <td>...</td>\n",
              "      <td>...</td>\n",
              "      <td>...</td>\n",
              "      <td>...</td>\n",
              "      <td>...</td>\n",
              "      <td>...</td>\n",
              "      <td>...</td>\n",
              "      <td>...</td>\n",
              "      <td>...</td>\n",
              "      <td>...</td>\n",
              "      <td>...</td>\n",
              "      <td>...</td>\n",
              "      <td>...</td>\n",
              "      <td>...</td>\n",
              "      <td>...</td>\n",
              "      <td>...</td>\n",
              "      <td>...</td>\n",
              "      <td>...</td>\n",
              "      <td>...</td>\n",
              "      <td>...</td>\n",
              "      <td>...</td>\n",
              "      <td>...</td>\n",
              "      <td>...</td>\n",
              "      <td>...</td>\n",
              "      <td>...</td>\n",
              "    </tr>\n",
              "    <tr>\n",
              "      <th>18129</th>\n",
              "      <td>0</td>\n",
              "      <td>0</td>\n",
              "      <td>0</td>\n",
              "      <td>1</td>\n",
              "      <td>0</td>\n",
              "      <td>1</td>\n",
              "      <td>0</td>\n",
              "      <td>0</td>\n",
              "      <td>0</td>\n",
              "      <td>0</td>\n",
              "      <td>0</td>\n",
              "      <td>1</td>\n",
              "      <td>1</td>\n",
              "      <td>0</td>\n",
              "      <td>4081</td>\n",
              "      <td>44</td>\n",
              "      <td>0</td>\n",
              "      <td>0</td>\n",
              "      <td>0</td>\n",
              "      <td>0</td>\n",
              "      <td>1</td>\n",
              "      <td>0</td>\n",
              "      <td>0</td>\n",
              "      <td>0</td>\n",
              "      <td>0</td>\n",
              "      <td>0</td>\n",
              "      <td>0</td>\n",
              "      <td>0</td>\n",
              "      <td>0</td>\n",
              "      <td>10306.0</td>\n",
              "      <td>1.0</td>\n",
              "      <td>0.0</td>\n",
              "      <td>1.0</td>\n",
              "      <td>921.0</td>\n",
              "      <td>1950.0</td>\n",
              "      <td>1</td>\n",
              "      <td>0</td>\n",
              "      <td>0</td>\n",
              "      <td>0</td>\n",
              "      <td>0</td>\n",
              "      <td>1</td>\n",
              "      <td>0</td>\n",
              "      <td>0</td>\n",
              "      <td>0</td>\n",
              "      <td>0</td>\n",
              "      <td>0</td>\n",
              "      <td>0</td>\n",
              "    </tr>\n",
              "    <tr>\n",
              "      <th>18130</th>\n",
              "      <td>0</td>\n",
              "      <td>0</td>\n",
              "      <td>0</td>\n",
              "      <td>1</td>\n",
              "      <td>0</td>\n",
              "      <td>1</td>\n",
              "      <td>0</td>\n",
              "      <td>0</td>\n",
              "      <td>0</td>\n",
              "      <td>0</td>\n",
              "      <td>0</td>\n",
              "      <td>1</td>\n",
              "      <td>1</td>\n",
              "      <td>0</td>\n",
              "      <td>2373</td>\n",
              "      <td>201</td>\n",
              "      <td>0</td>\n",
              "      <td>0</td>\n",
              "      <td>1</td>\n",
              "      <td>0</td>\n",
              "      <td>0</td>\n",
              "      <td>0</td>\n",
              "      <td>0</td>\n",
              "      <td>0</td>\n",
              "      <td>0</td>\n",
              "      <td>0</td>\n",
              "      <td>0</td>\n",
              "      <td>0</td>\n",
              "      <td>0</td>\n",
              "      <td>10314.0</td>\n",
              "      <td>1.0</td>\n",
              "      <td>0.0</td>\n",
              "      <td>1.0</td>\n",
              "      <td>2128.0</td>\n",
              "      <td>1980.0</td>\n",
              "      <td>1</td>\n",
              "      <td>0</td>\n",
              "      <td>0</td>\n",
              "      <td>1</td>\n",
              "      <td>0</td>\n",
              "      <td>0</td>\n",
              "      <td>0</td>\n",
              "      <td>0</td>\n",
              "      <td>0</td>\n",
              "      <td>0</td>\n",
              "      <td>0</td>\n",
              "      <td>0</td>\n",
              "    </tr>\n",
              "    <tr>\n",
              "      <th>18132</th>\n",
              "      <td>0</td>\n",
              "      <td>0</td>\n",
              "      <td>0</td>\n",
              "      <td>1</td>\n",
              "      <td>0</td>\n",
              "      <td>1</td>\n",
              "      <td>0</td>\n",
              "      <td>0</td>\n",
              "      <td>0</td>\n",
              "      <td>0</td>\n",
              "      <td>0</td>\n",
              "      <td>1</td>\n",
              "      <td>1</td>\n",
              "      <td>0</td>\n",
              "      <td>1132</td>\n",
              "      <td>42</td>\n",
              "      <td>0</td>\n",
              "      <td>1</td>\n",
              "      <td>0</td>\n",
              "      <td>0</td>\n",
              "      <td>0</td>\n",
              "      <td>0</td>\n",
              "      <td>0</td>\n",
              "      <td>0</td>\n",
              "      <td>0</td>\n",
              "      <td>0</td>\n",
              "      <td>0</td>\n",
              "      <td>0</td>\n",
              "      <td>0</td>\n",
              "      <td>10302.0</td>\n",
              "      <td>1.0</td>\n",
              "      <td>0.0</td>\n",
              "      <td>1.0</td>\n",
              "      <td>1807.0</td>\n",
              "      <td>2018.0</td>\n",
              "      <td>1</td>\n",
              "      <td>0</td>\n",
              "      <td>1</td>\n",
              "      <td>0</td>\n",
              "      <td>0</td>\n",
              "      <td>0</td>\n",
              "      <td>0</td>\n",
              "      <td>0</td>\n",
              "      <td>0</td>\n",
              "      <td>0</td>\n",
              "      <td>0</td>\n",
              "      <td>0</td>\n",
              "    </tr>\n",
              "    <tr>\n",
              "      <th>18134</th>\n",
              "      <td>0</td>\n",
              "      <td>0</td>\n",
              "      <td>0</td>\n",
              "      <td>1</td>\n",
              "      <td>0</td>\n",
              "      <td>1</td>\n",
              "      <td>0</td>\n",
              "      <td>0</td>\n",
              "      <td>0</td>\n",
              "      <td>0</td>\n",
              "      <td>0</td>\n",
              "      <td>1</td>\n",
              "      <td>1</td>\n",
              "      <td>0</td>\n",
              "      <td>3395</td>\n",
              "      <td>37</td>\n",
              "      <td>0</td>\n",
              "      <td>0</td>\n",
              "      <td>0</td>\n",
              "      <td>0</td>\n",
              "      <td>1</td>\n",
              "      <td>0</td>\n",
              "      <td>0</td>\n",
              "      <td>0</td>\n",
              "      <td>0</td>\n",
              "      <td>0</td>\n",
              "      <td>0</td>\n",
              "      <td>0</td>\n",
              "      <td>0</td>\n",
              "      <td>10305.0</td>\n",
              "      <td>1.0</td>\n",
              "      <td>0.0</td>\n",
              "      <td>1.0</td>\n",
              "      <td>621.0</td>\n",
              "      <td>1930.0</td>\n",
              "      <td>1</td>\n",
              "      <td>0</td>\n",
              "      <td>0</td>\n",
              "      <td>0</td>\n",
              "      <td>0</td>\n",
              "      <td>1</td>\n",
              "      <td>0</td>\n",
              "      <td>0</td>\n",
              "      <td>0</td>\n",
              "      <td>0</td>\n",
              "      <td>0</td>\n",
              "      <td>0</td>\n",
              "    </tr>\n",
              "    <tr>\n",
              "      <th>18147</th>\n",
              "      <td>0</td>\n",
              "      <td>1</td>\n",
              "      <td>0</td>\n",
              "      <td>0</td>\n",
              "      <td>0</td>\n",
              "      <td>1</td>\n",
              "      <td>0</td>\n",
              "      <td>0</td>\n",
              "      <td>0</td>\n",
              "      <td>0</td>\n",
              "      <td>0</td>\n",
              "      <td>1</td>\n",
              "      <td>1</td>\n",
              "      <td>0</td>\n",
              "      <td>11159</td>\n",
              "      <td>11</td>\n",
              "      <td>0</td>\n",
              "      <td>0</td>\n",
              "      <td>0</td>\n",
              "      <td>1</td>\n",
              "      <td>0</td>\n",
              "      <td>0</td>\n",
              "      <td>0</td>\n",
              "      <td>0</td>\n",
              "      <td>0</td>\n",
              "      <td>0</td>\n",
              "      <td>0</td>\n",
              "      <td>0</td>\n",
              "      <td>0</td>\n",
              "      <td>11429.0</td>\n",
              "      <td>1.0</td>\n",
              "      <td>0.0</td>\n",
              "      <td>1.0</td>\n",
              "      <td>1163.0</td>\n",
              "      <td>1950.0</td>\n",
              "      <td>1</td>\n",
              "      <td>0</td>\n",
              "      <td>0</td>\n",
              "      <td>0</td>\n",
              "      <td>1</td>\n",
              "      <td>0</td>\n",
              "      <td>0</td>\n",
              "      <td>0</td>\n",
              "      <td>0</td>\n",
              "      <td>0</td>\n",
              "      <td>0</td>\n",
              "      <td>0</td>\n",
              "    </tr>\n",
              "  </tbody>\n",
              "</table>\n",
              "<p>2507 rows × 47 columns</p>\n",
              "</div>"
            ],
            "text/plain": [
              "       BOROUGH_3  ...  BUILDING_CLASS_AT_TIME_OF_SALE_S0\n",
              "44             1  ...                                  0\n",
              "61             0  ...                                  0\n",
              "78             0  ...                                  0\n",
              "108            1  ...                                  0\n",
              "111            1  ...                                  0\n",
              "...          ...  ...                                ...\n",
              "18129          0  ...                                  0\n",
              "18130          0  ...                                  0\n",
              "18132          0  ...                                  0\n",
              "18134          0  ...                                  0\n",
              "18147          0  ...                                  0\n",
              "\n",
              "[2507 rows x 47 columns]"
            ]
          },
          "metadata": {
            "tags": []
          },
          "execution_count": 28
        }
      ]
    },
    {
      "cell_type": "code",
      "metadata": {
        "id": "fq9RRsy0AbOT",
        "colab_type": "code",
        "colab": {}
      },
      "source": [
        "X_test"
      ],
      "execution_count": 0,
      "outputs": []
    },
    {
      "cell_type": "code",
      "metadata": {
        "id": "2_Mh-6b-AvZt",
        "colab_type": "code",
        "colab": {}
      },
      "source": [
        "features = X_train.columns\n",
        "x = len(features)\n",
        "x"
      ],
      "execution_count": 0,
      "outputs": []
    },
    {
      "cell_type": "code",
      "metadata": {
        "id": "cH5KAInrBBkN",
        "colab_type": "code",
        "colab": {}
      },
      "source": [
        "X_train.std(axis = 0)"
      ],
      "execution_count": 0,
      "outputs": []
    },
    {
      "cell_type": "code",
      "metadata": {
        "id": "JXX3ZMYTCUZV",
        "colab_type": "code",
        "colab": {}
      },
      "source": [
        "# print(X_train, TAX_CLASS_AT_TIME_OF_SALE.value_counts())"
      ],
      "execution_count": 0,
      "outputs": []
    },
    {
      "cell_type": "code",
      "metadata": {
        "id": "RTMcY_GnmSnO",
        "colab_type": "code",
        "colab": {
          "base_uri": "https://localhost:8080/",
          "height": 400
        },
        "outputId": "4f66b5e0-0305-41e5-beac-4ff746e58329"
      },
      "source": [
        "from sklearn.feature_selection import SelectKBest, f_regression\n",
        "from sklearn.linear_model import LinearRegression\n",
        "\n",
        "for k in range(1, len(X_train.columns) + 1):\n",
        "  print(f'#{} Features')\n",
        "  selector = SelectKBest(score_func = f_regression, k=1)\n",
        "  X_train_selected = selector.fit_transform(X_train, y_train)\n",
        "  X_test_selected = selector.transform(X_test)\n",
        "\n",
        "  model = LinearRegression()\n",
        "  model.fit(X_train_selected, y_train)\n",
        "  y_pred = model.predict(X_test_selected)\n",
        "  mae = mean_absolute_error(y_test, y_pred)\n",
        "  print(f'Test Mean Absolute Error: ${mae:,.0f} \\n')"
      ],
      "execution_count": 29,
      "outputs": [
        {
          "output_type": "stream",
          "text": [
            "/usr/local/lib/python3.6/dist-packages/sklearn/feature_selection/_univariate_selection.py:299: RuntimeWarning:\n",
            "\n",
            "divide by zero encountered in true_divide\n",
            "\n",
            "/usr/local/lib/python3.6/dist-packages/sklearn/feature_selection/_univariate_selection.py:304: RuntimeWarning:\n",
            "\n",
            "invalid value encountered in true_divide\n",
            "\n",
            "/usr/local/lib/python3.6/dist-packages/scipy/stats/_distn_infrastructure.py:903: RuntimeWarning:\n",
            "\n",
            "invalid value encountered in greater\n",
            "\n",
            "/usr/local/lib/python3.6/dist-packages/scipy/stats/_distn_infrastructure.py:903: RuntimeWarning:\n",
            "\n",
            "invalid value encountered in less\n",
            "\n",
            "/usr/local/lib/python3.6/dist-packages/scipy/stats/_distn_infrastructure.py:1912: RuntimeWarning:\n",
            "\n",
            "invalid value encountered in less_equal\n",
            "\n"
          ],
          "name": "stderr"
        },
        {
          "output_type": "execute_result",
          "data": {
            "text/plain": [
              "((2507, 1), (644, 1))"
            ]
          },
          "metadata": {
            "tags": []
          },
          "execution_count": 29
        }
      ]
    },
    {
      "cell_type": "code",
      "metadata": {
        "id": "9XbeJcWEnJsl",
        "colab_type": "code",
        "colab": {}
      },
      "source": [
        "selector = SelectKBest(score_func = f_regression, k = 13)\n",
        "X_train_selected = selector.fit_transform(X_train, y_train)\n",
        "X_test_selected = selector.transform(X_test)\n",
        "\n",
        "print(X_train_selected.shape)\n",
        "print(X_test_selected.shape)"
      ],
      "execution_count": 0,
      "outputs": []
    },
    {
      "cell_type": "code",
      "metadata": {
        "id": "EbOPEJkdsWod",
        "colab_type": "code",
        "colab": {}
      },
      "source": [
        "from IPython.display import display, HTML \n",
        "from sklearn.metrics import mean_absolute_error\n",
        "import matplotlib.pyplot as plt"
      ],
      "execution_count": 0,
      "outputs": []
    },
    {
      "cell_type": "code",
      "metadata": {
        "id": "uUWDnyBeqsbb",
        "colab_type": "code",
        "colab": {}
      },
      "source": [
        "alphas = [0.01, 0.1, 1.0, 10.0, 100.0]"
      ],
      "execution_count": 0,
      "outputs": []
    },
    {
      "cell_type": "code",
      "metadata": {
        "id": "WzgYLa7trDa0",
        "colab_type": "code",
        "colab": {
          "base_uri": "https://localhost:8080/",
          "height": 35
        },
        "outputId": "3c6a66fd-4b6e-4215-d823-4b8e9d4ac7cc"
      },
      "source": [
        "# Importing Ridge \n",
        "from sklearn.linear_model import RidgeCV, Ridge\n",
        "\n",
        "ridge = RidgeCV(alphas=alphas, normalize=True)\n",
        "ridge.fit(X_train_selected, y_train)\n",
        "ridge.alpha_"
      ],
      "execution_count": 32,
      "outputs": [
        {
          "output_type": "execute_result",
          "data": {
            "text/plain": [
              "0.01"
            ]
          },
          "metadata": {
            "tags": []
          },
          "execution_count": 32
        }
      ]
    },
    {
      "cell_type": "code",
      "metadata": {
        "id": "n5NpQcYYsLZd",
        "colab_type": "code",
        "colab": {
          "base_uri": "https://localhost:8080/",
          "height": 35
        },
        "outputId": "ab525757-3bef-4317-d4b5-396fb9fe355b"
      },
      "source": [
        "ridge.fit(X_test_selected, y_test)\n",
        "ridge.alpha_"
      ],
      "execution_count": 33,
      "outputs": [
        {
          "output_type": "execute_result",
          "data": {
            "text/plain": [
              "0.01"
            ]
          },
          "metadata": {
            "tags": []
          },
          "execution_count": 33
        }
      ]
    },
    {
      "cell_type": "code",
      "metadata": {
        "id": "bUCVHMXEsw18",
        "colab_type": "code",
        "colab": {}
      },
      "source": [
        "for alpha in [0.001, 0.01, 0.1, 1.0, 1, 100.0, 1000.0]:\n",
        "  display(HTML(f'Ridge Regression, with alpha={alpha}'))\n",
        "  model = Ridge(alpha = alpha, normalize = True)\n",
        "  model.fit(X_train, y_train)\n",
        "  y_pred = model.predict(X_test)\n",
        "  \n",
        "  mae = mean_absolute_error(y_test, y_pred)\n",
        "  display(f'Test MAE: ${mae:,.0f}')\n",
        "\n",
        "  coefficients pd.Series(model.coef_, X_train.columns)\n",
        "  plt.figure(figsize = (12, 8))\n",
        "  coefficients.sort_values().plot.barh(color='black')\n",
        "  plt.xlim(-2000000, 2000000)\n",
        "  plt.show() "
      ],
      "execution_count": 0,
      "outputs": []
    }
  ]
}